{
 "cells": [
  {
   "cell_type": "code",
   "execution_count": 1,
   "metadata": {},
   "outputs": [
    {
     "ename": "SyntaxError",
     "evalue": "invalid syntax (<ipython-input-1-8a2c0b7a55f1>, line 8)",
     "output_type": "error",
     "traceback": [
      "\u001b[1;36m  File \u001b[1;32m\"<ipython-input-1-8a2c0b7a55f1>\"\u001b[1;36m, line \u001b[1;32m8\u001b[0m\n\u001b[1;33m    for file in os.listdir('C:\\\\Users\\Lenovo\\Desktop\\\\Utility\\Semester 5\\Machine Learning\\Project\\\\Data\\\\TopCoder_Data\\\\Training data\\\\')\u001b[0m\n\u001b[1;37m                                                                                                                                         ^\u001b[0m\n\u001b[1;31mSyntaxError\u001b[0m\u001b[1;31m:\u001b[0m invalid syntax\n"
     ]
    }
   ],
   "source": [
    "\n",
    "import os\n",
    "import subprocess\n",
    "\n",
    "d = dict()\n",
    "# os.chdir('C:\\\\Users\\Lenovo\\Desktop\\\\Utility\\Semester 5\\Machine Learning\\Project\\English_Data\\\\')\n",
    "print(os.getcwd())\n",
    "for file in os.listdir('C:\\\\Users\\Lenovo\\Desktop\\\\Utility\\Semester 5\\Machine Learning\\Project\\\\Data\\\\TopCoder_Data\\\\Training data\\\\')\n",
    "    arr = file.split('-')\n",
    "    string = \"ffmpeg -i\" + file + file[:-4] + \".flac\"\n",
    "    os.system(string)    "
   ]
  }
 ],
 "metadata": {
  "kernelspec": {
   "display_name": "Python 3",
   "language": "python",
   "name": "python3"
  },
  "language_info": {
   "codemirror_mode": {
    "name": "ipython",
    "version": 3
   },
   "file_extension": ".py",
   "mimetype": "text/x-python",
   "name": "python",
   "nbconvert_exporter": "python",
   "pygments_lexer": "ipython3",
   "version": "3.6.1"
  }
 },
 "nbformat": 4,
 "nbformat_minor": 2
}
